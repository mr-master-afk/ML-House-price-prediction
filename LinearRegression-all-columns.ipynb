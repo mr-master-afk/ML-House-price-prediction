{
 "cells": [
  {
   "cell_type": "code",
   "execution_count": 1,
   "metadata": {},
   "outputs": [],
   "source": [
    "import numpy as np # linear algebra\n",
    "import pandas as pd # data processing, CSV file I/O (e.g. pd.read_csv)\n",
    "from matplotlib import pyplot as plt\n",
    "import seaborn as sns\n",
    "from sklearn.base import BaseEstimator, TransformerMixin\n",
    "from sklearn.pipeline import Pipeline\n",
    "\n",
    "import sklearn"
   ]
  },
  {
   "cell_type": "code",
   "execution_count": 2,
   "metadata": {},
   "outputs": [],
   "source": [
    "pd.set_option('display.max_columns', None)  \n",
    "pd.set_option('display.width', None)        \n",
    "pd.set_option('display.expand_frame_repr', False)"
   ]
  },
  {
   "cell_type": "code",
   "execution_count": 3,
   "metadata": {},
   "outputs": [],
   "source": [
    "df = pd.read_csv('train.csv')\n",
    "pd.set_option('display.max_rows', None)"
   ]
  },
  {
   "cell_type": "code",
   "execution_count": 4,
   "metadata": {},
   "outputs": [],
   "source": [
    "from sklearn.model_selection import train_test_split\n",
    "\n",
    "train, test = train_test_split(df, test_size=0.2, random_state=43)"
   ]
  },
  {
   "cell_type": "code",
   "execution_count": 5,
   "metadata": {},
   "outputs": [
    {
     "data": {
      "text/plain": [
       "((1168, 81), (292, 81))"
      ]
     },
     "execution_count": 5,
     "metadata": {},
     "output_type": "execute_result"
    }
   ],
   "source": [
    "train.shape, test.shape"
   ]
  },
  {
   "cell_type": "markdown",
   "metadata": {},
   "source": [
    "# For this model we gonna keep all columns"
   ]
  },
  {
   "cell_type": "markdown",
   "metadata": {},
   "source": [
    "# Cleaning"
   ]
  },
  {
   "cell_type": "code",
   "execution_count": 6,
   "metadata": {},
   "outputs": [],
   "source": [
    "X = train.drop([\"SalePrice\", \"Id\"], axis=1)\n",
    "y = train[\"SalePrice\"]\n",
    "X_test = test.drop([\"SalePrice\", \"Id\"], axis=1)\n",
    "y_test = test[\"SalePrice\"]"
   ]
  },
  {
   "cell_type": "code",
   "execution_count": 7,
   "metadata": {},
   "outputs": [],
   "source": [
    "cat_cols = [col for col in X.columns if X[col].dtype == 'object']\n",
    "num_cols = [col for col in X.columns if X[col].dtype != 'object']"
   ]
  },
  {
   "cell_type": "markdown",
   "metadata": {},
   "source": [
    "## CLEANING - Custom Transformer for handling missing values"
   ]
  },
  {
   "cell_type": "code",
   "execution_count": 8,
   "metadata": {},
   "outputs": [],
   "source": [
    "class DealWithNans(BaseEstimator, TransformerMixin):\n",
    "    def __init__(self):\n",
    "        self.fill_values_ = {}\n",
    "\n",
    "    def fit(self, X, y=None):\n",
    "        X = pd.DataFrame(X)  # Ensure it's a DataFrame\n",
    "\n",
    "        for col in X.columns:\n",
    "            if X[col].dtype == \"object\" or str(X[col].dtype).startswith(\"category\"):\n",
    "                # Categorical: use mode\n",
    "                self.fill_values_[col] = X[col].mode().iloc[0]\n",
    "            else:\n",
    "                # Numeric: use median\n",
    "                self.fill_values_[col] = X[col].median()\n",
    "        \n",
    "        return self\n",
    "\n",
    "    def transform(self, X):\n",
    "        X = pd.DataFrame(X)  # Ensure it's a DataFrame\n",
    "        return X.fillna(self.fill_values_)"
   ]
  },
  {
   "cell_type": "markdown",
   "metadata": {},
   "source": [
    "# FEATURE ENGINEERING - Categorical encoding"
   ]
  },
  {
   "cell_type": "code",
   "execution_count": 9,
   "metadata": {},
   "outputs": [],
   "source": [
    "from sklearn.preprocessing import OneHotEncoder\n",
    "from sklearn.linear_model import LinearRegression\n",
    "from sklearn.compose import ColumnTransformer\n",
    "\n",
    "cat_pipeline = Pipeline([\n",
    "    (\"encoder\", OneHotEncoder(handle_unknown=\"ignore\", sparse_output=False))\n",
    "])\n",
    "\n",
    "column_transform = ColumnTransformer([\n",
    "    (\"cat\", cat_pipeline, cat_cols),\n",
    "    (\"num\", \"passthrough\", num_cols)\n",
    "])\n",
    "full_pipeline = Pipeline([\n",
    "    (\"nan_filler\", DealWithNans()),\n",
    "    (\"features\", column_transform),\n",
    "    (\"model\", LinearRegression())\n",
    "])"
   ]
  },
  {
   "cell_type": "markdown",
   "metadata": {},
   "source": [
    "# TRAINING - GridSearch with cross-validation"
   ]
  },
  {
   "cell_type": "code",
   "execution_count": 20,
   "metadata": {},
   "outputs": [
    {
     "name": "stdout",
     "output_type": "stream",
     "text": [
      "Fitting 5 folds for each of 2 candidates, totalling 10 fits\n",
      "[CV] END ..........................model__fit_intercept=True; total time=   0.1s\n",
      "[CV] END ..........................model__fit_intercept=True; total time=   0.1s\n",
      "[CV] END ..........................model__fit_intercept=True; total time=   0.1s\n",
      "[CV] END ..........................model__fit_intercept=True; total time=   0.1s\n",
      "[CV] END ..........................model__fit_intercept=True; total time=   0.1s\n",
      "[CV] END .........................model__fit_intercept=False; total time=   0.1s\n",
      "[CV] END .........................model__fit_intercept=False; total time=   0.1s\n",
      "[CV] END .........................model__fit_intercept=False; total time=   0.1s\n",
      "[CV] END .........................model__fit_intercept=False; total time=   0.1s\n",
      "[CV] END .........................model__fit_intercept=False; total time=   0.1s\n",
      "Best Hyperparameters: {'model__fit_intercept': True}\n",
      "\n",
      "Test Set Evaluation:\n",
      "0.7917608406034615\n",
      "Test R² Score: 0.8168807428243522\n",
      "Test RMSE: 34142.99873122279\n",
      "Test MAE: 18188.54568560409\n"
     ]
    }
   ],
   "source": [
    "from sklearn.model_selection import GridSearchCV\n",
    "from sklearn.metrics import r2_score, mean_squared_error, mean_absolute_error\n",
    "# Define parameter grid for hyperparameter tuning\n",
    "param_grid = {\n",
    "    \"model__fit_intercept\": [True, False]\n",
    "}\n",
    "\n",
    "grid_search = GridSearchCV(full_pipeline, param_grid, cv=5, scoring=\"r2\", verbose=2)\n",
    "grid_search.fit(X, y)\n",
    "\n",
    "# Best parameters found by GridSearchCV\n",
    "print(\"Best Hyperparameters:\", grid_search.best_params_)\n",
    "# Get the best model\n",
    "best_model = grid_search.best_estimator_\n",
    "\n",
    "# Evaluate on the test set using the best model\n",
    "predictions_test = best_model.predict(X_test)\n",
    "\n",
    "# Calculate test metrics\n",
    "r2_test = r2_score(test[\"SalePrice\"], predictions_test)\n",
    "rmse_test = np.sqrt(mean_squared_error(test[\"SalePrice\"], predictions_test))\n",
    "mae_test = mean_absolute_error(test[\"SalePrice\"], predictions_test)\n",
    "\n",
    "# Output test metrics\n",
    "\n",
    "print(\"\\nTest Set Evaluation:\")\n",
    "print(grid_search.best_score_)\n",
    "\n",
    "print(\"Test R² Score:\", r2_test)\n",
    "print(\"Test RMSE:\", rmse_test)\n",
    "print(\"Test MAE:\", mae_test)\n"
   ]
  },
  {
   "cell_type": "code",
   "execution_count": 11,
   "metadata": {},
   "outputs": [
    {
     "data": {
      "text/plain": [
       "<matplotlib.collections.PathCollection at 0x15ad7c400>"
      ]
     },
     "execution_count": 11,
     "metadata": {},
     "output_type": "execute_result"
    },
    {
     "data": {
      "image/png": "[encoded data removed]",
      "text/plain": [
       "<Figure size 640x480 with 1 Axes>"
      ]
     },
     "metadata": {},
     "output_type": "display_data"
    }
   ],
   "source": [
    "plt.scatter(test[\"SalePrice\"], predictions_test)"
   ]
  },
  {
   "cell_type": "code",
   "execution_count": 22,
   "metadata": {},
   "outputs": [
    {
     "data": {
      "text/plain": [
       "<Axes: xlabel='SalePrice', ylabel='Count'>"
      ]
     },
     "execution_count": 22,
     "metadata": {},
     "output_type": "execute_result"
    },
    {
     "data": {
      "image/png": "[encoded data removed]",
      "text/plain": [
       "<Figure size 640x480 with 1 Axes>"
      ]
     },
     "metadata": {},
     "output_type": "display_data"
    }
   ],
   "source": [
    "sns.histplot((test[\"SalePrice\"] - predictions_test),bins=50)"
   ]
  },
  {
   "cell_type": "code",
   "execution_count": 13,
   "metadata": {},
   "outputs": [
    {
     "data": {
      "text/html": [
       "<pre style=\"white-space:pre;overflow-x:auto;line-height:normal;font-family:Menlo,'DejaVu Sans Mono',consolas,'Courier New',monospace\">Accessing as mr-master-afk\n",
       "</pre>\n"
      ],
      "text/plain": [
       "Accessing as mr-master-afk\n"
      ]
     },
     "metadata": {},
     "output_type": "display_data"
    },
    {
     "data": {
      "text/html": [
       "<pre style=\"white-space:pre;overflow-x:auto;line-height:normal;font-family:Menlo,'DejaVu Sans Mono',consolas,'Courier New',monospace\">Initialized MLflow to track repo <span style=\"color: #008000; text-decoration-color: #008000\">\"mr-master-afk/ML-House-price-prediction\"</span>\n",
       "</pre>\n"
      ],
      "text/plain": [
       "Initialized MLflow to track repo \u001b[32m\"mr-master-afk/ML-House-price-prediction\"\u001b[0m\n"
      ]
     },
     "metadata": {},
     "output_type": "display_data"
    },
    {
     "data": {
      "text/html": [
       "<pre style=\"white-space:pre;overflow-x:auto;line-height:normal;font-family:Menlo,'DejaVu Sans Mono',consolas,'Courier New',monospace\">Repository mr-master-afk/ML-House-price-prediction initialized!\n",
       "</pre>\n"
      ],
      "text/plain": [
       "Repository mr-master-afk/ML-House-price-prediction initialized!\n"
      ]
     },
     "metadata": {},
     "output_type": "display_data"
    }
   ],
   "source": [
    "import dagshub\n",
    "dagshub.init(repo_owner='mr-master-afk', repo_name='ML-House-price-prediction', mlflow=True)"
   ]
  },
  {
   "cell_type": "code",
   "execution_count": 14,
   "metadata": {},
   "outputs": [],
   "source": [
    "import mlflow"
   ]
  },
  {
   "cell_type": "code",
   "execution_count": 15,
   "metadata": {},
   "outputs": [
    {
     "name": "stdout",
     "output_type": "stream",
     "text": [
      "3abc9b8c45d440e2a8c73c3c491f6376\n",
      "Fitting 5 folds for each of 2 candidates, totalling 10 fits\n",
      "[CV] END ..........................model__fit_intercept=True; total time=   0.1s\n",
      "[CV] END ..........................model__fit_intercept=True; total time=   0.1s\n",
      "[CV] END ..........................model__fit_intercept=True; total time=   0.1s\n",
      "[CV] END ..........................model__fit_intercept=True; total time=   0.1s\n",
      "[CV] END ..........................model__fit_intercept=True; total time=   0.1s\n",
      "[CV] END .........................model__fit_intercept=False; total time=   0.1s\n",
      "[CV] END .........................model__fit_intercept=False; total time=   0.1s\n",
      "[CV] END .........................model__fit_intercept=False; total time=   0.1s\n",
      "[CV] END .........................model__fit_intercept=False; total time=   0.1s\n",
      "[CV] END .........................model__fit_intercept=False; total time=   0.1s\n"
     ]
    },
    {
     "name": "stderr",
     "output_type": "stream",
     "text": [
      "\u001b[31m2025/04/10 22:05:47 WARNING mlflow.models.model: Model logged without a signature and input example. Please set `input_example` parameter when logging the model to auto infer the model signature.\u001b[0m\n"
     ]
    },
    {
     "name": "stdout",
     "output_type": "stream",
     "text": [
      "🏃 View run LinearRegression_with_all_columns_ at: https://dagshub.com/mr-master-afk/ML-House-price-prediction.mlflow/#/experiments/0/runs/3abc9b8c45d440e2a8c73c3c491f6376\n",
      "🧪 View experiment at: https://dagshub.com/mr-master-afk/ML-House-price-prediction.mlflow/#/experiments/0\n"
     ]
    }
   ],
   "source": [
    "with mlflow.start_run(run_name=\"LinearRegression_with_all_columns_\") as mlflow_run:\n",
    "    run_id = mlflow_run.info.run_id\n",
    "    print(run_id)\n",
    "    \n",
    "    # Log the parent experiment parameters\n",
    "    mlflow.log_params({\n",
    "        \"cv_folds\": 5,\n",
    "        \"scoring_metric\": \"r2\",\n",
    "        \"random_state\": 43,\n",
    "        \"model_type\": \"LinearRegression\"\n",
    "    })\n",
    "    \n",
    "    # Log best model and parameters as parent run artifacts\n",
    "    mlflow.log_param(\"best_params\", grid_search.best_params_)\n",
    "    mlflow.log_metric(\"best_cv_score\", grid_search.best_score_)\n",
    "    mlflow.log_metric(\"r2_score\", grid_search.best_score_)\n",
    "    # Save best model\n",
    "    mlflow.sklearn.log_model(grid_search.best_estimator_, \"best_model\")\n",
    "    \n",
    "    # Create a pandas DataFrame of results\n",
    "    results = pd.DataFrame(grid_search.cv_results_)"
   ]
  },
  {
   "cell_type": "code",
   "execution_count": 16,
   "metadata": {},
   "outputs": [
    {
     "name": "stdout",
     "output_type": "stream",
     "text": [
      "Test R² Score: 0.8168807428243522\n",
      "Test RMSE: 34142.99873122279\n",
      "Test MAE: 18188.54568560409\n"
     ]
    }
   ],
   "source": [
    "X_test_prepared = test.drop([\"Id\", \"SalePrice\"], axis=1)\n",
    "y_test = test[\"SalePrice\"]\n",
    "\n",
    "# Predict on the test set\n",
    "predictions_test = best_model.predict(X_test_prepared)\n",
    "\n",
    "# Calculate R² Score\n",
    "r2_test = r2_score(y_test, predictions_test)\n",
    "print(\"Test R² Score:\", r2_test)\n",
    "\n",
    "# Calculate RMSE\n",
    "rmse_test = np.sqrt(mean_squared_error(y_test, predictions_test))\n",
    "print(\"Test RMSE:\", rmse_test)\n",
    "\n",
    "# Calculate MAE\n",
    "mae_test = mean_absolute_error(y_test, predictions_test)\n",
    "print(\"Test MAE:\", mae_test)"
   ]
  }
 ],
 "metadata": {
  "kernelspec": {
   "display_name": "tutorial",
   "language": "python",
   "name": "python3"
  },
  "language_info": {
   "codemirror_mode": {
    "name": "ipython",
    "version": 3
   },
   "file_extension": ".py",
   "mimetype": "text/x-python",
   "name": "python",
   "nbconvert_exporter": "python",
   "pygments_lexer": "ipython3",
   "version": "3.9.6"
  }
 },
 "nbformat": 4,
 "nbformat_minor": 2
}
